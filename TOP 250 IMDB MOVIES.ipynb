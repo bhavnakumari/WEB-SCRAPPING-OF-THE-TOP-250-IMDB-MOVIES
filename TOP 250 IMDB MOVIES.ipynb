{
 "cells": [
  {
   "cell_type": "code",
   "execution_count": 17,
   "metadata": {},
   "outputs": [],
   "source": [
    "import pandas as pd\n",
    "import requests\n",
    "import re\n",
    "from bs4 import BeautifulSoup"
   ]
  },
  {
   "cell_type": "code",
   "execution_count": 68,
   "metadata": {},
   "outputs": [],
   "source": [
    "#send request\n",
    "url_list=['https://www.imdb.com/search/title/?groups=top_250&sort=user_rating,desc&ref_=adv_prv','https://www.imdb.com/search/title/?groups=top_250&sort=user_rating,desc&start=51&ref_=adv_nxt','https://www.imdb.com/search/title/?groups=top_250&sort=user_rating,desc&start=101&ref_=adv_nxt','https://www.imdb.com/search/title/?groups=top_250&sort=user_rating,desc&start=151&ref_=adv_nxt','https://www.imdb.com/search/title/?groups=top_250&sort=user_rating,desc&start=201&ref_=adv_nxt']\n",
    "\n"
   ]
  },
  {
   "cell_type": "code",
   "execution_count": null,
   "metadata": {},
   "outputs": [],
   "source": []
  },
  {
   "cell_type": "code",
   "execution_count": 75,
   "metadata": {},
   "outputs": [
    {
     "data": {
      "text/plain": [
       "250"
      ]
     },
     "execution_count": 75,
     "metadata": {},
     "output_type": "execute_result"
    }
   ],
   "source": [
    "#GETTING THE MOVIE ID\n",
    "movie_id=[]\n",
    "movie_id_elem=[]\n",
    "for url in url_list:\n",
    "    page=requests.get(url)\n",
    "    soup=BeautifulSoup(page.text,'html.parser')\n",
    "    id_temp=soup.find_all(class_='lister-item-index unbold text-primary')\n",
    "    movie_id_elem=movie_id_elem+id_temp\n",
    "    \n",
    "for item in movie_id_elem:\n",
    "    s=item.text\n",
    "    s=s.strip('.')\n",
    "    movie_id.append(s)\n",
    "\n",
    "len(movie_id)  \n"
   ]
  },
  {
   "cell_type": "code",
   "execution_count": 80,
   "metadata": {},
   "outputs": [
    {
     "data": {
      "text/plain": [
       "250"
      ]
     },
     "execution_count": 80,
     "metadata": {},
     "output_type": "execute_result"
    }
   ],
   "source": [
    "#GETTING THE MOVIE NAME\n",
    "movie_name_elem=[]\n",
    "movie_name=[]\n",
    "for url in url_list:\n",
    "    page=requests.get(url)\n",
    "    soup=BeautifulSoup(page.text,'html.parser')\n",
    "    name_temp=soup.find_all(class_='lister-item-header')\n",
    "    movie_name_elem=movie_name_elem+name_temp\n",
    "for item in movie_name_elem:\n",
    "    movie_name.append((item.find('a')).text)\n",
    "    \n",
    "len(movie_name)\n",
    "\n"
   ]
  },
  {
   "cell_type": "code",
   "execution_count": 81,
   "metadata": {},
   "outputs": [
    {
     "data": {
      "text/plain": [
       "250"
      ]
     },
     "execution_count": 81,
     "metadata": {},
     "output_type": "execute_result"
    }
   ],
   "source": [
    "#GETTING THE RELEASE YEAR\n",
    "\n",
    "release_year=[]\n",
    "release_year_elem=[]\n",
    "\n",
    "for url in url_list:\n",
    "    page=requests.get(url)\n",
    "    soup=BeautifulSoup(page.text,'html.parser')\n",
    "    release_year_temp=soup.find_all(class_='lister-item-year text-muted unbold')\n",
    "    release_year_elem=release_year_elem+release_year_temp\n",
    "    \n",
    "for item in release_year_elem:\n",
    "    release_year.append(item.text)\n",
    "    \n",
    "len(release_year) \n",
    "\n"
   ]
  },
  {
   "cell_type": "code",
   "execution_count": 90,
   "metadata": {},
   "outputs": [
    {
     "data": {
      "text/plain": [
       "250"
      ]
     },
     "execution_count": 90,
     "metadata": {},
     "output_type": "execute_result"
    }
   ],
   "source": [
    "#GETTING THE GENRE\n",
    "movie_genre=[]\n",
    "movie_genre_elem=[]\n",
    "\n",
    "\n",
    "for url in url_list:\n",
    "    page=requests.get(url)\n",
    "    soup=BeautifulSoup(page.text,'html.parser')\n",
    "    genre_temp=soup.find_all(class_='genre')\n",
    "    movie_genre_elem=movie_genre_elem+genre_temp\n",
    "    \n",
    "for item in movie_genre_elem:\n",
    "    s=item.text\n",
    "    s=s.strip('\\n')\n",
    "    s=s.strip()\n",
    "    movie_genre.append(s)\n",
    "    \n",
    "len(movie_genre)\n",
    "\n"
   ]
  },
  {
   "cell_type": "code",
   "execution_count": 97,
   "metadata": {},
   "outputs": [
    {
     "data": {
      "text/plain": [
       "250"
      ]
     },
     "execution_count": 97,
     "metadata": {},
     "output_type": "execute_result"
    }
   ],
   "source": [
    "#GETTING THE IMDB RATING\n",
    "movie_rating=[]\n",
    "movie_rating_elem=[]\n",
    "\n",
    "\n",
    "for url in url_list:\n",
    "    page=requests.get(url)\n",
    "    soup=BeautifulSoup(page.text,'html.parser')\n",
    "    rating_temp=soup.find_all(class_='inline-block ratings-imdb-rating')\n",
    "    movie_rating_elem=movie_rating_elem+rating_temp\n",
    "    \n",
    "for item in movie_rating_elem:\n",
    "    movie_rating.append(item.find('strong').text)\n",
    "    \n",
    "len(movie_rating)\n"
   ]
  },
  {
   "cell_type": "code",
   "execution_count": 115,
   "metadata": {},
   "outputs": [
    {
     "data": {
      "text/plain": [
       "250"
      ]
     },
     "execution_count": 115,
     "metadata": {},
     "output_type": "execute_result"
    }
   ],
   "source": [
    "#GETTING THE METASCORE\n",
    "movie_metascore_elem=[]\n",
    "movie_metascore=[]\n",
    "for url in url_list:\n",
    "    page=requests.get(url)\n",
    "    soup=BeautifulSoup(page.text,'html.parser')\n",
    "    metascore_temp=soup.find_all('div',{'class':'ratings-bar'})\n",
    "    movie_metascore_elem=movie_metascore_elem+metascore_temp\n",
    "\n",
    "for item in movie_metascore_elem:\n",
    "    try:\n",
    "        s=(item.find('div',{'class':'inline-block ratings-metascore'}))\n",
    "        s=s.find('span',{'class':'metascore favorable'})\n",
    "        s=s.text\n",
    "        s=s.strip()\n",
    "        movie_metascore.append(s)\n",
    "    except:\n",
    "        movie_metascore.append('Not Mentioned')  \n",
    "len(movie_metascore)        "
   ]
  },
  {
   "cell_type": "code",
   "execution_count": 134,
   "metadata": {},
   "outputs": [
    {
     "data": {
      "text/plain": [
       "250"
      ]
     },
     "execution_count": 134,
     "metadata": {},
     "output_type": "execute_result"
    }
   ],
   "source": [
    "#GETTING THE MOVIE SUMMARY\n",
    "movie_summary_elem=[]\n",
    "movie_summary=[]\n",
    "for url in url_list:\n",
    "    page=requests.get(url)\n",
    "    soup=BeautifulSoup(page.text,'html.parser')\n",
    "    summary_temp=soup.find_all('p',{'class':'text-muted'})\n",
    "    for item in summary_temp:\n",
    "        movie_summary_elem.append(item.text)\n",
    "for i in range(len(movie_summary_elem)):\n",
    "    if i%2!=0:\n",
    "        s=movie_summary_elem[i]\n",
    "        s=s.strip('\\n')\n",
    "        s=s.strip()\n",
    "        movie_summary.append(s)\n",
    "len(movie_summary)\n",
    "\n"
   ]
  },
  {
   "cell_type": "code",
   "execution_count": 158,
   "metadata": {},
   "outputs": [
    {
     "data": {
      "text/plain": [
       "250"
      ]
     },
     "execution_count": 158,
     "metadata": {},
     "output_type": "execute_result"
    }
   ],
   "source": [
    "#GETTING THE DIRECTOR NAME\n",
    "movie_director_elem=[]\n",
    "movie_director_temp=[]\n",
    "movie_director=[]\n",
    "for url in url_list:\n",
    "    page=requests.get(url)\n",
    "    soup=BeautifulSoup(page.text,'html.parser')\n",
    "    director_temp=soup.find_all('p',{'class':\"\"})\n",
    "    movie_director_elem=movie_director_elem+director_temp\n",
    "\n",
    "for item in movie_director_elem:\n",
    "    movie_director_temp.append(item.find('a'))\n",
    "s=2\n",
    "e=52\n",
    "for j in range(0,5):\n",
    "    for i in range(s,e):\n",
    "        movie_director.append(movie_director_temp[i].text)\n",
    "    s=s+53\n",
    "    e=e+53   \n",
    "len(movie_director)    "
   ]
  },
  {
   "cell_type": "code",
   "execution_count": 163,
   "metadata": {},
   "outputs": [],
   "source": [
    "#GETTING THE STARS\n",
    "movie_stars_elem=[]\n",
    "movie_stars_temp=[]\n",
    "movie_stars=[]\n",
    "for url in url_list:\n",
    "    page=requests.get(url,)\n",
    "    soup=BeautifulSoup(page.text,'html.parser')\n",
    "    stars_temp=soup.find_all('p',{'class':\"\"})\n",
    "    movie_stars_elem=movie_stars_elem+stars_temp\n",
    "for item in movie_stars_elem:\n",
    "    movie_stars_temp.append(item.find_all('a'))\n",
    "   \n",
    "    \n",
    "    "
   ]
  },
  {
   "cell_type": "code",
   "execution_count": 164,
   "metadata": {},
   "outputs": [],
   "source": [
    "s=2\n",
    "e=52\n",
    "for j in range(0,5):\n",
    "    for i in range(s,e):\n",
    "        movie_stars.append(movie_stars_temp[i][1:])\n",
    "    s+=53\n",
    "    e+=53"
   ]
  },
  {
   "cell_type": "code",
   "execution_count": 166,
   "metadata": {},
   "outputs": [
    {
     "data": {
      "text/plain": [
       "250"
      ]
     },
     "execution_count": 166,
     "metadata": {},
     "output_type": "execute_result"
    }
   ],
   "source": [
    "stars=[]\n",
    "m=''\n",
    "for i in range(0,250):\n",
    "    for j in movie_stars[i]:\n",
    "        m=m+j.text+','\n",
    "    stars.append(m)\n",
    "    m=''\n",
    "len(stars)    "
   ]
  },
  {
   "cell_type": "code",
   "execution_count": 170,
   "metadata": {},
   "outputs": [
    {
     "data": {
      "text/plain": [
       "250"
      ]
     },
     "execution_count": 170,
     "metadata": {},
     "output_type": "execute_result"
    }
   ],
   "source": [
    "#GETTING NO OF VOTES\n",
    "movie_vote=[]\n",
    "movie_vote_elem=[]\n",
    "\n",
    "\n",
    "for url in url_list:\n",
    "    page=requests.get(url)\n",
    "    soup=BeautifulSoup(page.text,'html.parser')\n",
    "    vote_temp=soup.find_all('p',{'class':'sort-num_votes-visible'})\n",
    "    movie_vote_elem=movie_vote_elem+vote_temp\n",
    "    \n",
    "for item in movie_vote_elem:\n",
    "    movie_vote.append(item.find('span',{'name':\"nv\"}).text)\n",
    "    \n",
    "len(movie_vote)\n"
   ]
  },
  {
   "cell_type": "code",
   "execution_count": 179,
   "metadata": {},
   "outputs": [
    {
     "data": {
      "text/plain": [
       "250"
      ]
     },
     "execution_count": 179,
     "metadata": {},
     "output_type": "execute_result"
    }
   ],
   "source": [
    "#GETTING PROFIT\n",
    "movie_profit=[]\n",
    "movie_profit_elem=[]\n",
    "movie_profit_temp=[]\n",
    "\n",
    "\n",
    "for url in url_list:\n",
    "    page=requests.get(url)\n",
    "    soup=BeautifulSoup(page.text,'html.parser')\n",
    "    profit_temp=soup.find_all('p',{'class':'sort-num_votes-visible'})\n",
    "    movie_profit_elem=movie_profit_elem+profit_temp\n",
    "    \n",
    "for item in movie_profit_elem:\n",
    "    movie_profit_temp.append(item.find_all('span',{'name':\"nv\"}))\n",
    "    \n",
    "for i in range(0,len(movie_profit_temp)):\n",
    "    try:\n",
    "        movie_profit.append(movie_profit_temp[i][1].text)\n",
    "    except:\n",
    "        movie_profit.append('NaN')\n",
    "len(movie_profit)        "
   ]
  },
  {
   "cell_type": "code",
   "execution_count": 184,
   "metadata": {},
   "outputs": [],
   "source": [
    "Movie={}\n",
    "Movie['Movie Id']=movie_id\n",
    "Movie['Movie Name']=movie_name\n",
    "Movie['Release Year']=release_year\n",
    "Movie['Genre']=movie_genre\n",
    "Movie['IMDB Rating']=movie_rating\n",
    "Movie['Movie Metascore']=movie_metascore\n",
    "Movie['Movie Summary']=movie_summary\n",
    "Movie['Director']=movie_director\n",
    "Movie['Stars']=stars\n",
    "Movie['Votes']=movie_vote\n",
    "Movie['Profit']=movie_profit\n",
    "\n",
    "data=pd.DataFrame(data=Movie)\n",
    "data.to_csv('TOP_250_IMDB_MOVIES.csv')\n",
    "\n",
    "\n",
    "\n",
    "\n",
    "\n"
   ]
  }
 ],
 "metadata": {
  "kernelspec": {
   "display_name": "Python 3",
   "language": "python",
   "name": "python3"
  },
  "language_info": {
   "codemirror_mode": {
    "name": "ipython",
    "version": 3
   },
   "file_extension": ".py",
   "mimetype": "text/x-python",
   "name": "python",
   "nbconvert_exporter": "python",
   "pygments_lexer": "ipython3",
   "version": "3.7.3"
  }
 },
 "nbformat": 4,
 "nbformat_minor": 2
}
